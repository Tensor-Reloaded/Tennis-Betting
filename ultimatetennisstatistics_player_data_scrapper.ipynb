{
 "cells": [
  {
   "cell_type": "code",
   "execution_count": 28,
   "metadata": {},
   "outputs": [],
   "source": [
    "from IPython.display import clear_output\n",
    "from tinydb import TinyDB, Query\n",
    "from selenium import webdriver\n",
    "from selenium.webdriver.common.keys import Keys\n",
    "import requests\n",
    "from urllib.request import urlopen\n",
    "from urllib.error import HTTPError\n",
    "from bs4 import BeautifulSoup\n",
    "\n",
    "import re"
   ]
  },
  {
   "cell_type": "code",
   "execution_count": 29,
   "metadata": {},
   "outputs": [],
   "source": [
    "db = TinyDB('data/custom_data/db.json')"
   ]
  },
  {
   "cell_type": "code",
   "execution_count": 30,
   "metadata": {},
   "outputs": [],
   "source": [
    "players = db.table('players')\n",
    "tournaments = db.table('tournaments')\n",
    "matches = db.table('matches')"
   ]
  },
  {
   "cell_type": "code",
   "execution_count": null,
   "metadata": {},
   "outputs": [
    {
     "name": "stdout",
     "output_type": "stream",
     "text": [
      "Player ID 37036\n"
     ]
    }
   ],
   "source": [
    "query = Query()\n",
    "START_INDEX = 31957\n",
    "END_INDEX = 52928\n",
    "for player_id in range(START_INDEX,END_INDEX+1):\n",
    "    clear_output(wait=True)\n",
    "    print(\"Player ID\",player_id)\n",
    "    url_tab = \"https://www.ultimatetennisstatistics.com/playerProfileTab?playerId=\"+str(player_id)\n",
    "    url_page = \"https://www.ultimatetennisstatistics.com/playerProfile?playerId=\"+str(player_id)\n",
    "    player_name = None\n",
    "    try:\n",
    "        f = urlopen(url_page)\n",
    "        re_obj = re.compile(r'.*(<head.*<title.*?>(.*)</title>.*</head>)',re.DOTALL)\n",
    "        Found = False\n",
    "        data = ''\n",
    "        while True:\n",
    "            b_data = f.read(4096)\n",
    "            if not b_data: break\n",
    "\n",
    "            data += b_data.decode(errors='ignore')\n",
    "            match = re_obj.match(data)\n",
    "            if match:\n",
    "                Found = True\n",
    "                title = match.groups()[1]\n",
    "                player_name = title.replace(\"Ultimate Tennis Statistics - \",\"\").strip()\n",
    "                break\n",
    "\n",
    "        f.close()\n",
    "    except HTTPError as e:\n",
    "        if e.getcode() == 404:\n",
    "            continue\n",
    "        raise\n",
    "\n",
    "    page = requests.get(url_tab)\n",
    "    soup = BeautifulSoup(page.text, 'html.parser')\n",
    "    info = {\"id\":player_id,\"name\":player_name,\"aliases\":[player_name]}\n",
    "    for table in soup.find_all(\"table\",class_=[\"table\",\"table-condensed\",\"text-nowrap\"]):\n",
    "        for row in table.find_all(\"tr\"):\n",
    "            if row.find(\"th\") is None or row.find(\"td\") is None:\n",
    "                heads = row.find_all(\"th\")\n",
    "                if len(heads) == 3:\n",
    "                    if not \"surfaces\" in info:\n",
    "                        info[\"surfaces\"] = {}\n",
    "                    surface = heads[0].text.strip()\n",
    "                    info[\"surfaces\"][surface] = {\"raw_matches\":heads[1].text.strip()}\n",
    "                    if surface != \"Overall\":\n",
    "                        info[\"surfaces\"][surface][\"tournament_wins\"] = int(heads[2].text.strip())\n",
    "                continue\n",
    "            info[row.find(\"th\").text.strip()]=row.find(\"td\").text.strip()\n",
    "    players.remove(query.id==player_id)        \n",
    "    players.insert(info)"
   ]
  },
  {
   "cell_type": "code",
   "execution_count": 23,
   "metadata": {},
   "outputs": [],
   "source": [
    "# players.purge()"
   ]
  },
  {
   "cell_type": "code",
   "execution_count": null,
   "metadata": {},
   "outputs": [],
   "source": [
    "# player_id=3819\n",
    "# url = \"https://www.ultimatetennisstatistics.com/playerProfileTab?playerId=\"+str(player_id)\n",
    "\n",
    "\n",
    "# page = requests.get(url)\n",
    "# soup = BeautifulSoup(page.text, 'html.parser')\n",
    "# info = {\"id\":player_id}\n",
    "# for table in soup.find_all(\"table\",class_=[\"table\",\"table-condensed\",\"text-nowrap\"]):\n",
    "#     for row in table.find_all(\"tr\"):\n",
    "#         if row.find(\"th\") is None or row.find(\"td\") is None:\n",
    "#             heads = row.find_all(\"th\")\n",
    "#             if len(heads) == 3:\n",
    "#                 if not \"surfaces\" in info:\n",
    "#                     info[\"surfaces\"] = {}\n",
    "#                 surface = heads[0].text.strip()\n",
    "#                 info[\"surfaces\"][surface] = {\"raw_matches\":heads[1].text.strip()}\n",
    "#                 if surface != \"Overall\":\n",
    "#                     info[\"surfaces\"][surface][\"tournament_wins\"] = int(heads[2].text.strip())\n",
    "                    \n",
    "#             continue\n",
    "#         info[row.find(\"th\").text.strip()]=row.find(\"td\").text.strip()\n",
    "# players.remove(query.id==player_id)        \n",
    "# players.insert(info)\n",
    "# info"
   ]
  }
 ],
 "metadata": {
  "kernelspec": {
   "display_name": "Python 3",
   "language": "python",
   "name": "python3"
  },
  "language_info": {
   "codemirror_mode": {
    "name": "ipython",
    "version": 3
   },
   "file_extension": ".py",
   "mimetype": "text/x-python",
   "name": "python",
   "nbconvert_exporter": "python",
   "pygments_lexer": "ipython3",
   "version": "3.7.1"
  }
 },
 "nbformat": 4,
 "nbformat_minor": 2
}
