{
 "cells": [
  {
   "cell_type": "code",
   "execution_count": 1,
   "metadata": {},
   "outputs": [],
   "source": [
    "from IPython.display import clear_output\n",
    "\n",
    "import re\n",
    "import time\n",
    "import datetime\n",
    "\n",
    "import requests\n",
    "from selenium.webdriver import Chrome\n",
    "from selenium import webdriver\n",
    "from selenium.webdriver.common.keys import Keys\n",
    "from urllib.request import urlopen\n",
    "from urllib.error import HTTPError\n",
    "from bs4 import BeautifulSoup\n",
    "\n",
    "from tinydb import TinyDB, Query"
   ]
  },
  {
   "cell_type": "code",
   "execution_count": 2,
   "metadata": {},
   "outputs": [],
   "source": [
    "db = TinyDB('data/custom_data/oddsportal_output.json')"
   ]
  },
  {
   "cell_type": "code",
   "execution_count": 3,
   "metadata": {},
   "outputs": [],
   "source": [
    "tournaments = db.table('tournaments')\n",
    "matches = db.table('matches')"
   ]
  },
  {
   "cell_type": "code",
   "execution_count": 4,
   "metadata": {},
   "outputs": [],
   "source": [
    "query = Query()"
   ]
  },
  {
   "cell_type": "code",
   "execution_count": 5,
   "metadata": {},
   "outputs": [],
   "source": [
    "\"\"\"\n",
    "UPDATE THESE\n",
    "\"\"\"\n",
    "chrome_executable_path = r\"C:\\Users\\Cristian Simionescu\\Desktop\\Master\\Random\\webdrivers\\chromedriver.exe\"\n",
    "output_file_path = r\"data/custom_data/oddsportal_output.txt\""
   ]
  },
  {
   "cell_type": "code",
   "execution_count": 6,
   "metadata": {},
   "outputs": [],
   "source": [
    "base_url = \"https://www.oddsportal.com\"\n",
    "start_url = \"https://www.oddsportal.com/tennis/results/\"\n",
    "headers = {\n",
    "    \"User-Agent\": \"Mozilla/5.0 (Linux; Android 6.0; Nexus 5 Build/MRA58N) AppleWebKit/537.36 (KHTML, like Gecko) Chrome/75.0.3770.100 Mobile Safari/537.36\"\n",
    "}"
   ]
  },
  {
   "cell_type": "code",
   "execution_count": 9,
   "metadata": {},
   "outputs": [
    {
     "name": "stdout",
     "output_type": "stream",
     "text": [
      "Tournament ID 16\n",
      "Tournament year ID 0\n",
      "Match ID 14\n",
      "Tournaments remaining 2570\n",
      "Tournament years remaining 1\n",
      "Matches in tournament remainig 1\n",
      "Corrientes Challenger Men Doubles - 2015\n"
     ]
    },
    {
     "ename": "NoSuchElementException",
     "evalue": "Message: no such element: Unable to locate element: {\"method\":\"css selector\",\"selector\":\"#col-content > div.prizemoney\"}\n  (Session info: chrome=75.0.3770.100)\n",
     "output_type": "error",
     "traceback": [
      "\u001b[1;31m---------------------------------------------------------------------------\u001b[0m",
      "\u001b[1;31mNoSuchElementException\u001b[0m                    Traceback (most recent call last)",
      "\u001b[1;32m<ipython-input-9-843ce6387f93>\u001b[0m in \u001b[0;36m<module>\u001b[1;34m\u001b[0m\n\u001b[0;32m     45\u001b[0m \u001b[1;33m\u001b[0m\u001b[0m\n\u001b[0;32m     46\u001b[0m         \u001b[0mtournament_year\u001b[0m \u001b[1;33m=\u001b[0m \u001b[0mc\u001b[0m\u001b[1;33m.\u001b[0m\u001b[0mfind_element_by_css_selector\u001b[0m\u001b[1;33m(\u001b[0m\u001b[1;34m\"#col-content > div.main-menu2.main-menu-gray > ul.main-filter > li > span.active\"\u001b[0m\u001b[1;33m)\u001b[0m\u001b[1;33m.\u001b[0m\u001b[0mget_attribute\u001b[0m\u001b[1;33m(\u001b[0m\u001b[1;34m\"textContent\"\u001b[0m\u001b[1;33m)\u001b[0m\u001b[1;33m.\u001b[0m\u001b[0mstrip\u001b[0m\u001b[1;33m(\u001b[0m\u001b[1;33m)\u001b[0m\u001b[1;33m\u001b[0m\u001b[1;33m\u001b[0m\u001b[0m\n\u001b[1;32m---> 47\u001b[1;33m         \u001b[0mprize_money\u001b[0m \u001b[1;33m=\u001b[0m \u001b[0mc\u001b[0m\u001b[1;33m.\u001b[0m\u001b[0mfind_element_by_css_selector\u001b[0m\u001b[1;33m(\u001b[0m\u001b[1;34m\"#col-content > div.prizemoney\"\u001b[0m\u001b[1;33m)\u001b[0m\u001b[1;33m.\u001b[0m\u001b[0mget_attribute\u001b[0m\u001b[1;33m(\u001b[0m\u001b[1;34m\"textContent\"\u001b[0m\u001b[1;33m)\u001b[0m\u001b[1;33m.\u001b[0m\u001b[0mreplace\u001b[0m\u001b[1;33m(\u001b[0m\u001b[1;34m\"Prize money: \"\u001b[0m\u001b[1;33m,\u001b[0m\u001b[1;34m\"\"\u001b[0m\u001b[1;33m)\u001b[0m\u001b[1;33m.\u001b[0m\u001b[0mstrip\u001b[0m\u001b[1;33m(\u001b[0m\u001b[1;33m)\u001b[0m\u001b[1;33m\u001b[0m\u001b[1;33m\u001b[0m\u001b[0m\n\u001b[0m\u001b[0;32m     48\u001b[0m \u001b[1;33m\u001b[0m\u001b[0m\n\u001b[0;32m     49\u001b[0m         \u001b[0mtournament_id\u001b[0m \u001b[1;33m=\u001b[0m \u001b[0mtournament_name\u001b[0m\u001b[1;33m+\u001b[0m\u001b[1;34m\" - \"\u001b[0m\u001b[1;33m+\u001b[0m\u001b[0mtournament_year\u001b[0m\u001b[1;33m\u001b[0m\u001b[1;33m\u001b[0m\u001b[0m\n",
      "\u001b[1;32mC:\\Anaconda3\\lib\\site-packages\\selenium\\webdriver\\remote\\webdriver.py\u001b[0m in \u001b[0;36mfind_element_by_css_selector\u001b[1;34m(self, css_selector)\u001b[0m\n\u001b[0;32m    596\u001b[0m             \u001b[0melement\u001b[0m \u001b[1;33m=\u001b[0m \u001b[0mdriver\u001b[0m\u001b[1;33m.\u001b[0m\u001b[0mfind_element_by_css_selector\u001b[0m\u001b[1;33m(\u001b[0m\u001b[1;34m'#foo'\u001b[0m\u001b[1;33m)\u001b[0m\u001b[1;33m\u001b[0m\u001b[1;33m\u001b[0m\u001b[0m\n\u001b[0;32m    597\u001b[0m         \"\"\"\n\u001b[1;32m--> 598\u001b[1;33m         \u001b[1;32mreturn\u001b[0m \u001b[0mself\u001b[0m\u001b[1;33m.\u001b[0m\u001b[0mfind_element\u001b[0m\u001b[1;33m(\u001b[0m\u001b[0mby\u001b[0m\u001b[1;33m=\u001b[0m\u001b[0mBy\u001b[0m\u001b[1;33m.\u001b[0m\u001b[0mCSS_SELECTOR\u001b[0m\u001b[1;33m,\u001b[0m \u001b[0mvalue\u001b[0m\u001b[1;33m=\u001b[0m\u001b[0mcss_selector\u001b[0m\u001b[1;33m)\u001b[0m\u001b[1;33m\u001b[0m\u001b[1;33m\u001b[0m\u001b[0m\n\u001b[0m\u001b[0;32m    599\u001b[0m \u001b[1;33m\u001b[0m\u001b[0m\n\u001b[0;32m    600\u001b[0m     \u001b[1;32mdef\u001b[0m \u001b[0mfind_elements_by_css_selector\u001b[0m\u001b[1;33m(\u001b[0m\u001b[0mself\u001b[0m\u001b[1;33m,\u001b[0m \u001b[0mcss_selector\u001b[0m\u001b[1;33m)\u001b[0m\u001b[1;33m:\u001b[0m\u001b[1;33m\u001b[0m\u001b[1;33m\u001b[0m\u001b[0m\n",
      "\u001b[1;32mC:\\Anaconda3\\lib\\site-packages\\selenium\\webdriver\\remote\\webdriver.py\u001b[0m in \u001b[0;36mfind_element\u001b[1;34m(self, by, value)\u001b[0m\n\u001b[0;32m    976\u001b[0m         return self.execute(Command.FIND_ELEMENT, {\n\u001b[0;32m    977\u001b[0m             \u001b[1;34m'using'\u001b[0m\u001b[1;33m:\u001b[0m \u001b[0mby\u001b[0m\u001b[1;33m,\u001b[0m\u001b[1;33m\u001b[0m\u001b[1;33m\u001b[0m\u001b[0m\n\u001b[1;32m--> 978\u001b[1;33m             'value': value})['value']\n\u001b[0m\u001b[0;32m    979\u001b[0m \u001b[1;33m\u001b[0m\u001b[0m\n\u001b[0;32m    980\u001b[0m     \u001b[1;32mdef\u001b[0m \u001b[0mfind_elements\u001b[0m\u001b[1;33m(\u001b[0m\u001b[0mself\u001b[0m\u001b[1;33m,\u001b[0m \u001b[0mby\u001b[0m\u001b[1;33m=\u001b[0m\u001b[0mBy\u001b[0m\u001b[1;33m.\u001b[0m\u001b[0mID\u001b[0m\u001b[1;33m,\u001b[0m \u001b[0mvalue\u001b[0m\u001b[1;33m=\u001b[0m\u001b[1;32mNone\u001b[0m\u001b[1;33m)\u001b[0m\u001b[1;33m:\u001b[0m\u001b[1;33m\u001b[0m\u001b[1;33m\u001b[0m\u001b[0m\n",
      "\u001b[1;32mC:\\Anaconda3\\lib\\site-packages\\selenium\\webdriver\\remote\\webdriver.py\u001b[0m in \u001b[0;36mexecute\u001b[1;34m(self, driver_command, params)\u001b[0m\n\u001b[0;32m    319\u001b[0m         \u001b[0mresponse\u001b[0m \u001b[1;33m=\u001b[0m \u001b[0mself\u001b[0m\u001b[1;33m.\u001b[0m\u001b[0mcommand_executor\u001b[0m\u001b[1;33m.\u001b[0m\u001b[0mexecute\u001b[0m\u001b[1;33m(\u001b[0m\u001b[0mdriver_command\u001b[0m\u001b[1;33m,\u001b[0m \u001b[0mparams\u001b[0m\u001b[1;33m)\u001b[0m\u001b[1;33m\u001b[0m\u001b[1;33m\u001b[0m\u001b[0m\n\u001b[0;32m    320\u001b[0m         \u001b[1;32mif\u001b[0m \u001b[0mresponse\u001b[0m\u001b[1;33m:\u001b[0m\u001b[1;33m\u001b[0m\u001b[1;33m\u001b[0m\u001b[0m\n\u001b[1;32m--> 321\u001b[1;33m             \u001b[0mself\u001b[0m\u001b[1;33m.\u001b[0m\u001b[0merror_handler\u001b[0m\u001b[1;33m.\u001b[0m\u001b[0mcheck_response\u001b[0m\u001b[1;33m(\u001b[0m\u001b[0mresponse\u001b[0m\u001b[1;33m)\u001b[0m\u001b[1;33m\u001b[0m\u001b[1;33m\u001b[0m\u001b[0m\n\u001b[0m\u001b[0;32m    322\u001b[0m             response['value'] = self._unwrap_value(\n\u001b[0;32m    323\u001b[0m                 response.get('value', None))\n",
      "\u001b[1;32mC:\\Anaconda3\\lib\\site-packages\\selenium\\webdriver\\remote\\errorhandler.py\u001b[0m in \u001b[0;36mcheck_response\u001b[1;34m(self, response)\u001b[0m\n\u001b[0;32m    240\u001b[0m                 \u001b[0malert_text\u001b[0m \u001b[1;33m=\u001b[0m \u001b[0mvalue\u001b[0m\u001b[1;33m[\u001b[0m\u001b[1;34m'alert'\u001b[0m\u001b[1;33m]\u001b[0m\u001b[1;33m.\u001b[0m\u001b[0mget\u001b[0m\u001b[1;33m(\u001b[0m\u001b[1;34m'text'\u001b[0m\u001b[1;33m)\u001b[0m\u001b[1;33m\u001b[0m\u001b[1;33m\u001b[0m\u001b[0m\n\u001b[0;32m    241\u001b[0m             \u001b[1;32mraise\u001b[0m \u001b[0mexception_class\u001b[0m\u001b[1;33m(\u001b[0m\u001b[0mmessage\u001b[0m\u001b[1;33m,\u001b[0m \u001b[0mscreen\u001b[0m\u001b[1;33m,\u001b[0m \u001b[0mstacktrace\u001b[0m\u001b[1;33m,\u001b[0m \u001b[0malert_text\u001b[0m\u001b[1;33m)\u001b[0m\u001b[1;33m\u001b[0m\u001b[1;33m\u001b[0m\u001b[0m\n\u001b[1;32m--> 242\u001b[1;33m         \u001b[1;32mraise\u001b[0m \u001b[0mexception_class\u001b[0m\u001b[1;33m(\u001b[0m\u001b[0mmessage\u001b[0m\u001b[1;33m,\u001b[0m \u001b[0mscreen\u001b[0m\u001b[1;33m,\u001b[0m \u001b[0mstacktrace\u001b[0m\u001b[1;33m)\u001b[0m\u001b[1;33m\u001b[0m\u001b[1;33m\u001b[0m\u001b[0m\n\u001b[0m\u001b[0;32m    243\u001b[0m \u001b[1;33m\u001b[0m\u001b[0m\n\u001b[0;32m    244\u001b[0m     \u001b[1;32mdef\u001b[0m \u001b[0m_value_or_default\u001b[0m\u001b[1;33m(\u001b[0m\u001b[0mself\u001b[0m\u001b[1;33m,\u001b[0m \u001b[0mobj\u001b[0m\u001b[1;33m,\u001b[0m \u001b[0mkey\u001b[0m\u001b[1;33m,\u001b[0m \u001b[0mdefault\u001b[0m\u001b[1;33m)\u001b[0m\u001b[1;33m:\u001b[0m\u001b[1;33m\u001b[0m\u001b[1;33m\u001b[0m\u001b[0m\n",
      "\u001b[1;31mNoSuchElementException\u001b[0m: Message: no such element: Unable to locate element: {\"method\":\"css selector\",\"selector\":\"#col-content > div.prizemoney\"}\n  (Session info: chrome=75.0.3770.100)\n"
     ]
    }
   ],
   "source": [
    "with requests.get(start_url, headers=headers) as r:\n",
    "    links = re.findall(b'foo=\"f\"\\s*href=\"([^\"]+)', r.content)\n",
    "links = list(map(lambda x: x.decode(), links))\n",
    "\n",
    "c = Chrome(executable_path=chrome_executable_path)\n",
    "\n",
    "T_START_INDEX = 16\n",
    "Y_START_INDEX = 0\n",
    "M_START_INDEX = 14\n",
    "\n",
    "T_END_INDEX = len(links)\n",
    "Y_END_INDEX = None    \n",
    "M_END_INDEX = None\n",
    "\n",
    "for index, link in enumerate(links[T_START_INDEX:T_END_INDEX]):\n",
    "    full_link = base_url + link\n",
    "    link = link.lstrip('/').replace('tennis/', '')\n",
    "    sep_index = link.find('/')\n",
    "    if sep_index < 0:\n",
    "        continue  # not found\n",
    "\n",
    "    country = link[:sep_index]\n",
    "    c.get(full_link)\n",
    "    tournament_name = c.find_element_by_xpath('//h1').get_attribute('textContent')\n",
    "    surface = re.search('\\(\\s*([a-z]+)\\s*\\)', tournament_name)\n",
    "    sex = \"men\"\n",
    "    if \"women\" in tournament_name.lower():\n",
    "        sex = \"women\"\n",
    "    elif \"mixed\" in tournament_name.lower():\n",
    "        sex = \"mixed\"\n",
    "    \n",
    "    if surface:\n",
    "        surface = surface.group(1)\n",
    "    else:\n",
    "        surface = \"\"\n",
    "    tournament_name = tournament_name.split(surface)[0].replace(\"(\",\"\").strip()\n",
    "    \n",
    "    tournmanet_year_links = c.find_element_by_css_selector(\"#col-content > div.main-menu2.main-menu-gray > ul.main-filter\").find_elements_by_css_selector(\"li > span > strong > a\")\n",
    "    tournmanet_year_links = [e.get_attribute(\"href\") for e in tournmanet_year_links]\n",
    "    \n",
    "    if Y_END_INDEX is None:\n",
    "        Y_END_INDEX = len(tournmanet_year_links)\n",
    "    for year_index,tournmanet_year_link in enumerate(tournmanet_year_links[Y_START_INDEX:Y_END_INDEX]):\n",
    "        c.get(tournmanet_year_link)\n",
    "\n",
    "        tournament_year = c.find_element_by_css_selector(\"#col-content > div.main-menu2.main-menu-gray > ul.main-filter > li > span.active\").get_attribute(\"textContent\").strip()\n",
    "        if \"exhibition\" in tournament_name.lower():\n",
    "            prize_money = \"$0\"\n",
    "        else:\n",
    "            prize_money = c.find_element_by_css_selector(\"#col-content > div.prizemoney\").get_attribute(\"textContent\").replace(\"Prize money: \",\"\").strip()\n",
    "\n",
    "        tournament_id = tournament_name+\" - \"+tournament_year\n",
    "        tournaments.remove(query.id==tournament_id)        \n",
    "        tournaments.insert({\"id\":tournament_id,\"year\":int(tournament_year),\"doubles\":\"doubles\" in tournament_name.lower(),\"prize_money\":prize_money,\"surface\":surface,\"sex\":sex})\n",
    "        \n",
    "        table = c.find_element_by_id('tournamentTable')\n",
    "        table = table.find_element_by_xpath('.//tbody')\n",
    "        \n",
    "        match_links = []\n",
    "        for child in table.find_elements_by_xpath('.//tr'):\n",
    "            if child.get_attribute('class') == \"dark center\":\n",
    "                pass\n",
    "            elif \"nob-border\" in child.get_attribute('class'):\n",
    "                pass\n",
    "            elif 'deactivate' in child.get_attribute('class'):\n",
    "                match_links.append(child.find_element_by_css_selector('td > a').get_attribute(\"href\"))\n",
    "        \n",
    "        if M_END_INDEX is None:\n",
    "            M_END_INDEX = len(match_links)\n",
    "        for match_id, match_link in enumerate(match_links[M_START_INDEX:M_END_INDEX]): \n",
    "            clear_output(wait=True)\n",
    "            print(\"Tournament ID\",index+T_START_INDEX)\n",
    "            print(\"Tournament year ID\",year_index+Y_START_INDEX)\n",
    "            print(\"Match ID\",match_id+M_START_INDEX)\n",
    "            print(\"Tournaments remaining\",T_END_INDEX-T_START_INDEX-index)\n",
    "            print(\"Tournament years remaining\",len(tournmanet_year_links)-Y_START_INDEX-year_index)\n",
    "            print(\"Matches in tournament remainig\",len(match_links)-M_START_INDEX-match_id)\n",
    "            \n",
    "            print(tournament_id)\n",
    "\n",
    "            match_time = players = final_score = info_val = \"\"\n",
    "            odds = list()\n",
    "\n",
    "            c.get(match_link)\n",
    "\n",
    "            players = c.find_element_by_css_selector(\"#col-content > h1\").get_attribute(\"textContent\")\n",
    "            players = re.sub('<[^>]+>', '', players).split('-')\n",
    "\n",
    "            match_time = c.find_element_by_css_selector(\"#col-content > p.date.datet\").get_attribute(\"textContent\")\n",
    "            match_time = datetime.datetime.strptime(match_time.replace(\"  \",\" \"),'%A, %d %b %Y, %H:%M')\n",
    "\n",
    "            result = c.find_element_by_css_selector(\"#event-status > p\").get_attribute(\"textContent\")\n",
    "            if \"Final result\" not in result:\n",
    "                continue\n",
    "            result = result.replace(\"Final result\",\"\").strip()\n",
    "            result = result.split(\" \",1)\n",
    "            score = result[0].strip()\n",
    "            sets = result[1][1:-1].split(\", \")\n",
    "\n",
    "            odds_table = c.find_element_by_css_selector(\"#odds-data-table > div.table-container > table.table-main.detail-odds.sortable\")\n",
    "            odds_body = odds_table.find_element_by_css_selector(\"tbody\")\n",
    "            odds = {}\n",
    "            for odd in odds_body.find_elements_by_css_selector(\"tr.lo\"):\n",
    "                columns = odd.find_elements_by_css_selector(\"td\")\n",
    "                bookie = columns[0].get_attribute(\"textContent\").strip()\n",
    "                rates = [columns[1].get_attribute(\"textContent\").strip(),columns[2].get_attribute(\"textContent\").strip()]\n",
    "                odds[bookie] = rates\n",
    "                \n",
    "            matches.remove(query.tournament_id==tournament_id and query.match_time==match_time)        \n",
    "            matches.insert({\"tournament_id\":tournament_id,\"country\":country,\"surface\":surface,\"match_time\":str(match_time),\"players\":players,\"score\":score,\"sets\":sets,\"odds\":odds})\n",
    "    Y_START_INDEX = 0\n",
    "    M_START_INDEX = 0\n",
    "    Y_END_INDEX = None    \n",
    "    M_END_INDEX = None\n",
    "c.close()"
   ]
  },
  {
   "cell_type": "code",
   "execution_count": 7,
   "metadata": {},
   "outputs": [],
   "source": [
    "# matches.purge()\n",
    "# tournaments.purge()"
   ]
  },
  {
   "cell_type": "code",
   "execution_count": null,
   "metadata": {},
   "outputs": [],
   "source": []
  }
 ],
 "metadata": {
  "kernelspec": {
   "display_name": "base",
   "language": "python",
   "name": "base"
  },
  "language_info": {
   "codemirror_mode": {
    "name": "ipython",
    "version": 3
   },
   "file_extension": ".py",
   "mimetype": "text/x-python",
   "name": "python",
   "nbconvert_exporter": "python",
   "pygments_lexer": "ipython3",
   "version": "3.7.1"
  }
 },
 "nbformat": 4,
 "nbformat_minor": 2
}
