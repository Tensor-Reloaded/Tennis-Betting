{
 "cells": [
  {
   "cell_type": "code",
   "execution_count": 1,
   "metadata": {},
   "outputs": [],
   "source": [
    "from IPython.display import clear_output\n",
    "\n",
    "import re\n",
    "import time\n",
    "\n",
    "import requests\n",
    "from selenium.webdriver import Chrome\n",
    "from selenium import webdriver\n",
    "from selenium.webdriver.common.keys import Keys\n",
    "from urllib.request import urlopen\n",
    "from urllib.error import HTTPError\n",
    "from bs4 import BeautifulSoup\n",
    "\n",
    "from tinydb import TinyDB, Query"
   ]
  },
  {
   "cell_type": "code",
   "execution_count": 2,
   "metadata": {},
   "outputs": [],
   "source": [
    "db = TinyDB('data/custom_data/oddsportal_output.json')"
   ]
  },
  {
   "cell_type": "code",
   "execution_count": 3,
   "metadata": {},
   "outputs": [],
   "source": [
    "tournaments = db.table('tournaments')\n",
    "matches = db.table('matches')"
   ]
  },
  {
   "cell_type": "code",
   "execution_count": 4,
   "metadata": {},
   "outputs": [],
   "source": [
    "query = Query()"
   ]
  },
  {
   "cell_type": "code",
   "execution_count": 5,
   "metadata": {},
   "outputs": [],
   "source": [
    "\"\"\"\n",
    "UPDATE THESE\n",
    "\"\"\"\n",
    "chrome_executable_path = r\"C:\\Users\\Cristian Simionescu\\Desktop\\Master\\Random\\webdrivers\\chromedriver.exe\"\n",
    "output_file_path = r\"data/custom_data/oddsportal_output.txt\""
   ]
  },
  {
   "cell_type": "code",
   "execution_count": 6,
   "metadata": {},
   "outputs": [],
   "source": [
    "base_url = \"https://www.oddsportal.com\"\n",
    "start_url = \"https://www.oddsportal.com/tennis/results/\"\n",
    "headers = {\n",
    "    \"User-Agent\": \"Mozilla/5.0 (Linux; Android 6.0; Nexus 5 Build/MRA58N) AppleWebKit/537.36 (KHTML, like Gecko) Chrome/75.0.3770.100 Mobile Safari/537.36\"\n",
    "}"
   ]
  },
  {
   "cell_type": "code",
   "execution_count": 19,
   "metadata": {},
   "outputs": [
    {
     "name": "stdout",
     "output_type": "stream",
     "text": [
      "Tournament ID 6\n",
      "Country: argentina\n",
      "Title: ATP Buenos Aires Doubles\n",
      "Surface: clay\n",
      "Current_data: 11 Feb 2019\n",
      "Table_time: 16:45\n",
      "Players: ['Cecchinato M./Lajovic D. ', ' Delbonis F./Duran G.']\n",
      "Match_link: https://www.oddsportal.com/tennis/argentina/atp-buenos-aires-doubles/cecchinato-marco-lajovic-dusan-delbonis-federico-duran-guillermo-vHOW9MSS/\n",
      "Table_odds: 2:1\n",
      "Odds_nowrp: ['3.06', '1.37']\n",
      "Info_val: 11\n"
     ]
    },
    {
     "ename": "KeyboardInterrupt",
     "evalue": "",
     "output_type": "error",
     "traceback": [
      "\u001b[1;31m---------------------------------------------------------------------------\u001b[0m",
      "\u001b[1;31mKeyboardInterrupt\u001b[0m                         Traceback (most recent call last)",
      "\u001b[1;32m<ipython-input-19-98181b570239>\u001b[0m in \u001b[0;36m<module>\u001b[1;34m\u001b[0m\n\u001b[0;32m     60\u001b[0m     \u001b[0mprint\u001b[0m\u001b[1;33m(\u001b[0m\u001b[1;34m\"Odds_nowrp:\"\u001b[0m\u001b[1;33m,\u001b[0m\u001b[0modds_nowrp\u001b[0m\u001b[1;33m)\u001b[0m\u001b[1;33m\u001b[0m\u001b[1;33m\u001b[0m\u001b[0m\n\u001b[0;32m     61\u001b[0m     \u001b[0mprint\u001b[0m\u001b[1;33m(\u001b[0m\u001b[1;34m\"Info_val:\"\u001b[0m\u001b[1;33m,\u001b[0m\u001b[0minfo_val\u001b[0m\u001b[1;33m)\u001b[0m\u001b[1;33m\u001b[0m\u001b[1;33m\u001b[0m\u001b[0m\n\u001b[1;32m---> 62\u001b[1;33m     \u001b[0mtime\u001b[0m\u001b[1;33m.\u001b[0m\u001b[0msleep\u001b[0m\u001b[1;33m(\u001b[0m\u001b[1;36m5\u001b[0m\u001b[1;33m)\u001b[0m\u001b[1;33m\u001b[0m\u001b[1;33m\u001b[0m\u001b[0m\n\u001b[0m\u001b[0;32m     63\u001b[0m \u001b[0mc\u001b[0m\u001b[1;33m.\u001b[0m\u001b[0mclose\u001b[0m\u001b[1;33m(\u001b[0m\u001b[1;33m)\u001b[0m\u001b[1;33m\u001b[0m\u001b[1;33m\u001b[0m\u001b[0m\n",
      "\u001b[1;31mKeyboardInterrupt\u001b[0m: "
     ]
    }
   ],
   "source": [
    "with requests.get(start_url, headers=headers) as r:\n",
    "    links = re.findall(b'foo=\"f\"\\s*href=\"([^\"]+)', r.content)\n",
    "links = list(map(lambda x: x.decode(), links))\n",
    "\n",
    "c = Chrome(executable_path=chrome_executable_path)\n",
    "\n",
    "START_INDEX = 6 #0\n",
    "END_INDEX = len(links)\n",
    "for index, link in enumerate(links[START_INDEX:END_INDEX]):\n",
    "    clear_output(wait=True)\n",
    "    print(\"Tournament ID\",index+START_INDEX)\n",
    "    full_link = base_url + link\n",
    "    link = link.lstrip('/').replace('tennis/', '')\n",
    "    sep_index = link.find('/')\n",
    "    if sep_index < 0:\n",
    "        continue  # not found\n",
    "\n",
    "    country = link[:sep_index]\n",
    "    c.get(full_link)\n",
    "    title = c.find_element_by_xpath('//h1').get_attribute('textContent')\n",
    "    surface = re.search('\\(\\s*([a-z]+)\\s*\\)', title)\n",
    "    if surface:\n",
    "        surface = surface.group(1)\n",
    "    else:\n",
    "        surface = \"\"\n",
    "    title = title.split(surface)[0].replace(\"(\",\"\").strip()\n",
    "    table = c.find_element_by_id('tournamentTable')\n",
    "    table = table.find_element_by_xpath('.//tbody')\n",
    "    current_date = None\n",
    "    # print(table.get_attribute(\"innerHTML\"))\n",
    "    for child in table.find_elements_by_xpath('.//tr'):\n",
    "        if child.get_attribute('class') == \"dark center\":\n",
    "            pass\n",
    "        elif \"nob-border\" in child.get_attribute('class'):\n",
    "            current_date = child.find_element_by_xpath('.//th/span').get_attribute('textContent').strip()\n",
    "        elif 'deactivate' in child.get_attribute('class'):\n",
    "            table_time = players = table_odds = info_val = \"\"\n",
    "            odds_nowrp = list()\n",
    "            for kid in child.find_elements_by_xpath('.//td'):\n",
    "                if \"table-time\" in kid.get_attribute('class'):\n",
    "                    table_time = kid.get_attribute('textContent')\n",
    "                elif \"table-participant\" in kid.get_attribute('class'):\n",
    "                    players = kid.get_attribute(\"textContent\")\n",
    "                    players = re.sub('<[^>]+>', '', players).split('-')\n",
    "                    match_link = kid.find_element_by_css_selector(\"a\").get_attribute(\"href\")\n",
    "                elif \"table-odds\" in kid.get_attribute('class'):\n",
    "                    table_odds = kid.get_attribute('textContent')\n",
    "                elif \"odds-nowrp\" in kid.get_attribute('class'):\n",
    "                    odds_nowrp.append(kid.get_attribute('textContent'))\n",
    "                elif \"info-value\" in kid.get_attribute('class'):\n",
    "                    info_val = kid.get_attribute('textContent')\n",
    "    print(\"Country:\",country)\n",
    "    print(\"Title:\",title)\n",
    "    print(\"Surface:\",surface)\n",
    "    print(\"Current_data:\",current_date)\n",
    "    print(\"Table_time:\",table_time)\n",
    "    print(\"Players:\",players)\n",
    "    print(\"Match_link:\",match_link)\n",
    "    print(\"Table_odds:\",table_odds)\n",
    "    print(\"Odds_nowrp:\",odds_nowrp)\n",
    "    print(\"Info_val:\",info_val)\n",
    "    time.sleep(5)\n",
    "c.close()"
   ]
  },
  {
   "cell_type": "code",
   "execution_count": null,
   "metadata": {},
   "outputs": [],
   "source": []
  },
  {
   "cell_type": "code",
   "execution_count": null,
   "metadata": {},
   "outputs": [],
   "source": []
  }
 ],
 "metadata": {
  "kernelspec": {
   "display_name": "base",
   "language": "python",
   "name": "base"
  },
  "language_info": {
   "codemirror_mode": {
    "name": "ipython",
    "version": 3
   },
   "file_extension": ".py",
   "mimetype": "text/x-python",
   "name": "python",
   "nbconvert_exporter": "python",
   "pygments_lexer": "ipython3",
   "version": "3.7.1"
  }
 },
 "nbformat": 4,
 "nbformat_minor": 2
}
