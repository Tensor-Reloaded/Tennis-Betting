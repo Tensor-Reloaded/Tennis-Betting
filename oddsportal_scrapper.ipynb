{
 "cells": [
  {
   "cell_type": "code",
   "execution_count": 1,
   "metadata": {},
   "outputs": [],
   "source": [
    "from IPython.display import clear_output\n",
    "\n",
    "import re\n",
    "import time\n",
    "import datetime\n",
    "\n",
    "import requests\n",
    "from selenium.webdriver import Chrome\n",
    "from selenium import webdriver\n",
    "from selenium.webdriver.common.keys import Keys\n",
    "from urllib.request import urlopen\n",
    "from urllib.error import HTTPError\n",
    "from bs4 import BeautifulSoup\n",
    "\n",
    "from tinydb import TinyDB, Query"
   ]
  },
  {
   "cell_type": "code",
   "execution_count": 2,
   "metadata": {},
   "outputs": [],
   "source": [
    "db = TinyDB('data/custom_data/oddsportal_output.json')"
   ]
  },
  {
   "cell_type": "code",
   "execution_count": 3,
   "metadata": {},
   "outputs": [],
   "source": [
    "tournaments = db.table('tournaments')\n",
    "matches = db.table('matches')"
   ]
  },
  {
   "cell_type": "code",
   "execution_count": 4,
   "metadata": {},
   "outputs": [],
   "source": [
    "query = Query()"
   ]
  },
  {
   "cell_type": "code",
   "execution_count": 5,
   "metadata": {},
   "outputs": [],
   "source": [
    "\"\"\"\n",
    "UPDATE THESE\n",
    "\"\"\"\n",
    "chrome_executable_path = r\"C:\\Users\\Cristian Simionescu\\Desktop\\Master\\Random\\webdrivers\\chromedriver.exe\"\n",
    "output_file_path = r\"data/custom_data/oddsportal_output.txt\""
   ]
  },
  {
   "cell_type": "code",
   "execution_count": 6,
   "metadata": {},
   "outputs": [],
   "source": [
    "base_url = \"https://www.oddsportal.com\"\n",
    "start_url = \"https://www.oddsportal.com/tennis/results/\"\n",
    "headers = {\n",
    "    \"User-Agent\": \"Mozilla/5.0 (Linux; Android 6.0; Nexus 5 Build/MRA58N) AppleWebKit/537.36 (KHTML, like Gecko) Chrome/75.0.3770.100 Mobile Safari/537.36\"\n",
    "}"
   ]
  },
  {
   "cell_type": "code",
   "execution_count": 7,
   "metadata": {},
   "outputs": [
    {
     "name": "stdout",
     "output_type": "stream",
     "text": [
      "Tournament ID 5\n"
     ]
    },
    {
     "ename": "IndexError",
     "evalue": "list index out of range",
     "output_type": "error",
     "traceback": [
      "\u001b[1;31m---------------------------------------------------------------------------\u001b[0m",
      "\u001b[1;31mIndexError\u001b[0m                                Traceback (most recent call last)",
      "\u001b[1;32m<ipython-input-7-46a08078a98b>\u001b[0m in \u001b[0;36m<module>\u001b[1;34m\u001b[0m\n\u001b[0;32m     65\u001b[0m             \u001b[0mresult\u001b[0m \u001b[1;33m=\u001b[0m \u001b[0mresult\u001b[0m\u001b[1;33m.\u001b[0m\u001b[0msplit\u001b[0m\u001b[1;33m(\u001b[0m\u001b[1;34m\" \"\u001b[0m\u001b[1;33m,\u001b[0m\u001b[1;36m1\u001b[0m\u001b[1;33m)\u001b[0m\u001b[1;33m\u001b[0m\u001b[1;33m\u001b[0m\u001b[0m\n\u001b[0;32m     66\u001b[0m             \u001b[0mscore\u001b[0m \u001b[1;33m=\u001b[0m \u001b[0mresult\u001b[0m\u001b[1;33m[\u001b[0m\u001b[1;36m0\u001b[0m\u001b[1;33m]\u001b[0m\u001b[1;33m.\u001b[0m\u001b[0mstrip\u001b[0m\u001b[1;33m(\u001b[0m\u001b[1;33m)\u001b[0m\u001b[1;33m\u001b[0m\u001b[1;33m\u001b[0m\u001b[0m\n\u001b[1;32m---> 67\u001b[1;33m             \u001b[0msets\u001b[0m \u001b[1;33m=\u001b[0m \u001b[0mresult\u001b[0m\u001b[1;33m[\u001b[0m\u001b[1;36m1\u001b[0m\u001b[1;33m]\u001b[0m\u001b[1;33m[\u001b[0m\u001b[1;36m1\u001b[0m\u001b[1;33m:\u001b[0m\u001b[1;33m-\u001b[0m\u001b[1;36m1\u001b[0m\u001b[1;33m]\u001b[0m\u001b[1;33m.\u001b[0m\u001b[0msplit\u001b[0m\u001b[1;33m(\u001b[0m\u001b[1;34m\", \"\u001b[0m\u001b[1;33m)\u001b[0m\u001b[1;33m\u001b[0m\u001b[1;33m\u001b[0m\u001b[0m\n\u001b[0m\u001b[0;32m     68\u001b[0m \u001b[1;33m\u001b[0m\u001b[0m\n\u001b[0;32m     69\u001b[0m             \u001b[0modds_table\u001b[0m \u001b[1;33m=\u001b[0m \u001b[0mc\u001b[0m\u001b[1;33m.\u001b[0m\u001b[0mfind_element_by_css_selector\u001b[0m\u001b[1;33m(\u001b[0m\u001b[1;34m\"#odds-data-table > div.table-container > table.table-main.detail-odds.sortable\"\u001b[0m\u001b[1;33m)\u001b[0m\u001b[1;33m\u001b[0m\u001b[1;33m\u001b[0m\u001b[0m\n",
      "\u001b[1;31mIndexError\u001b[0m: list index out of range"
     ]
    }
   ],
   "source": [
    "with requests.get(start_url, headers=headers) as r:\n",
    "    links = re.findall(b'foo=\"f\"\\s*href=\"([^\"]+)', r.content)\n",
    "links = list(map(lambda x: x.decode(), links))\n",
    "\n",
    "c = Chrome(executable_path=chrome_executable_path)\n",
    "\n",
    "START_INDEX = 0\n",
    "END_INDEX = len(links)\n",
    "for index, link in enumerate(links[START_INDEX:END_INDEX]):\n",
    "    clear_output(wait=True)\n",
    "    print(\"Tournament ID\",index+START_INDEX)\n",
    "    full_link = base_url + link\n",
    "    link = link.lstrip('/').replace('tennis/', '')\n",
    "    sep_index = link.find('/')\n",
    "    if sep_index < 0:\n",
    "        continue  # not found\n",
    "\n",
    "    country = link[:sep_index]\n",
    "    c.get(full_link)\n",
    "    tournament_name = c.find_element_by_xpath('//h1').get_attribute('textContent')\n",
    "    surface = re.search('\\(\\s*([a-z]+)\\s*\\)', tournament_name)\n",
    "    if surface:\n",
    "        surface = surface.group(1)\n",
    "    else:\n",
    "        surface = \"\"\n",
    "    tournament_name = tournament_name.split(surface)[0].replace(\"(\",\"\").strip()\n",
    "    \n",
    "    tournmanet_year_links = c.find_element_by_css_selector(\"#col-content > div.main-menu2.main-menu-gray > ul.main-filter\").find_elements_by_css_selector(\"li > span > strong > a\")\n",
    "    tournmanet_year_links = [e.get_attribute(\"href\") for e in tournmanet_year_links]\n",
    "    for tournmanet_year_link in tournmanet_year_links:\n",
    "        c.get(tournmanet_year_link)\n",
    "\n",
    "        tournament_year = c.find_element_by_css_selector(\"#col-content > div.main-menu2.main-menu-gray > ul.main-filter > li > span.active\").get_attribute(\"textContent\").strip()\n",
    "        prize_money = c.find_element_by_css_selector(\"#col-content > div.prizemoney\").get_attribute(\"textContent\").replace(\"Prize money: \",\"\").strip()\n",
    "\n",
    "        tournament_id = tournament_name+\" - \"+tournament_year\n",
    "        tournaments.remove(query.id==tournament_id)        \n",
    "        tournaments.insert({\"id\":tournament_id,\"year\":int(tournament_year),\"doubles\":\"doubles\" in tournament_name.lower(),\"prize_money\":prize_money,\"surface\":surface})\n",
    "        \n",
    "        table = c.find_element_by_id('tournamentTable')\n",
    "        table = table.find_element_by_xpath('.//tbody')\n",
    "        \n",
    "        match_links = []\n",
    "        for child in table.find_elements_by_xpath('.//tr'):\n",
    "            if child.get_attribute('class') == \"dark center\":\n",
    "                pass\n",
    "            elif \"nob-border\" in child.get_attribute('class'):\n",
    "                pass\n",
    "            elif 'deactivate' in child.get_attribute('class'):\n",
    "                match_links.append(child.find_element_by_css_selector('td > a').get_attribute(\"href\"))\n",
    "                \n",
    "        for match_link in match_links:   \n",
    "            match_time = players = final_score = info_val = \"\"\n",
    "            odds = list()\n",
    "\n",
    "            c.get(match_link)\n",
    "\n",
    "            players = c.find_element_by_css_selector(\"#col-content > h1\").get_attribute(\"textContent\")\n",
    "            players = re.sub('<[^>]+>', '', players).split('-')\n",
    "\n",
    "            match_time = c.find_element_by_css_selector(\"#col-content > p.date.datet\").get_attribute(\"textContent\")\n",
    "            match_time = datetime.datetime.strptime(match_time.replace(\"  \",\" \"),'%A, %d %b %Y, %H:%M')\n",
    "\n",
    "            result = c.find_element_by_css_selector(\"#event-status > p\").get_attribute(\"textContent\").replace(\"Final result\",\"\").strip()\n",
    "            result = result.split(\" \",1)\n",
    "            score = result[0].strip()\n",
    "            sets = result[1][1:-1].split(\", \")\n",
    "\n",
    "            odds_table = c.find_element_by_css_selector(\"#odds-data-table > div.table-container > table.table-main.detail-odds.sortable\")\n",
    "            odds_body = odds_table.find_element_by_css_selector(\"tbody\")\n",
    "            odds = {}\n",
    "            for odd in odds_body.find_elements_by_css_selector(\"tr.lo\"):\n",
    "                columns = odd.find_elements_by_css_selector(\"td\")\n",
    "                bookie = columns[0].get_attribute(\"textContent\").strip()\n",
    "                rates = [columns[1].get_attribute(\"textContent\").strip(),columns[2].get_attribute(\"textContent\").strip()]\n",
    "                odds[bookie] = rates\n",
    "                \n",
    "            matches.remove(query.tournament_id==tournament_id and query.match_time==match_time)        \n",
    "            matches.insert({\"tournament_id\":tournament_id,\"country\":country,\"surface\":surface,\"match_time\":str(match_time),\"players\":players,\"score\":score,\"sets\":sets,\"odds\":odds})\n",
    "c.close()"
   ]
  },
  {
   "cell_type": "code",
   "execution_count": null,
   "metadata": {},
   "outputs": [],
   "source": [
    "# matches.purge()\n",
    "# tournaments.purge()"
   ]
  },
  {
   "cell_type": "code",
   "execution_count": null,
   "metadata": {},
   "outputs": [],
   "source": []
  }
 ],
 "metadata": {
  "kernelspec": {
   "display_name": "base",
   "language": "python",
   "name": "base"
  },
  "language_info": {
   "codemirror_mode": {
    "name": "ipython",
    "version": 3
   },
   "file_extension": ".py",
   "mimetype": "text/x-python",
   "name": "python",
   "nbconvert_exporter": "python",
   "pygments_lexer": "ipython3",
   "version": "3.7.1"
  }
 },
 "nbformat": 4,
 "nbformat_minor": 2
}
